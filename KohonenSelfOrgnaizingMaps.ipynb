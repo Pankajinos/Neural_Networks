{
 "cells": [
  {
   "cell_type": "markdown",
   "id": "8ca44d84",
   "metadata": {},
   "source": [
    "### Kohonen Self Organizing maps \n",
    "- A type of unsupervised neural network introduced by Tevoku Kohonen"
   ]
  },
  {
   "cell_type": "markdown",
   "id": "8977a8e7",
   "metadata": {},
   "source": [
    "At each step:\n",
    "- We show a pattern (like a letter’s pixel array) to the SOM.\n",
    "- Find the closest neuron (the “winning unit”).\n",
    "-  Update the weights of:\n",
    "- - The winning neuron\n",
    "- - Its neighbors (based on topology)\n",
    "- Gradually reduce the learning rate and neighborhood size."
   ]
  },
  {
   "cell_type": "markdown",
   "id": "acdb78a9",
   "metadata": {},
   "source": [
    "### Introduction\n",
    "- If we need to create m cluster of n dimensional data then we will create a weight matrix of m*n \n",
    "- X = [1, 1, 0, 1]\n",
    "- Weight Matrix, where, Wij = w from i to j \n",
    "-     w11  w12\n",
    "      w21  w21\n",
    "      w31  w32\n",
    "      w31  w42\n",
    "- X = [ X1, X2, X3, X4....Xk ] where Xi is n dimensional vector\n",
    "### Algo\n",
    "- For each input vector Xi in X\n",
    "- calculate Dj = (xi1-w1j)^2 + (xi2- w2j)^2 .... where j is the jth cluster\n",
    "- J = jth cluster whose Dj is minimum\n",
    "- Then update the weight of the J cluster as \n",
    "    Wnew = Wold + alpha*(x - Wold)"
   ]
  },
  {
   "cell_type": "code",
   "execution_count": 55,
   "id": "70fed20f",
   "metadata": {},
   "outputs": [],
   "source": [
    "import numpy as np\n",
    "import matplotlib.pyplot as plt"
   ]
  },
  {
   "cell_type": "code",
   "execution_count": null,
   "id": "f9139ebe",
   "metadata": {},
   "outputs": [],
   "source": [
    "def SOM(X, n, x, y, R, alpha, num_iterations):\n",
    "    \"\"\"\n",
    "    X : input vectors (list of vectors)\n",
    "    n : dimensionality of input data\n",
    "    (x, y) : dimensions of 2D cluster grid\n",
    "    R : neighborhood radius\n",
    "    alpha : initial learning rate\n",
    "    num_iterations : number of iterations\n",
    "    \"\"\"\n",
    "\n",
    "    m = x * y  # total number of cluster units\n",
    "    X = np.array(X)\n",
    "\n",
    "    # Initialize weights randomly between 0 and 1\n",
    "    W = np.random.rand(m, n)\n",
    "\n",
    "    # Learning rate decay factor to getdown learning factor from 0.6 to 0.1 in given number of iterations\n",
    "    fac = 0.5 / num_iterations\n",
    "\n",
    "    # Function to compute grid distance (for neighborhood)\n",
    "    def grid_distance(a, b):\n",
    "        \"\"\"Euclidean distance between grid coordinates from 1D array of size x*y \"\"\"\n",
    "        ax, ay = a/y, a%y\n",
    "        bx, by = b/y, b%y\n",
    "        return np.sqrt((ax - bx)**2 + (ay - by)**2)\n",
    "\n",
    "    # Training loop\n",
    "    for _ in range(num_iterations):\n",
    "        for x_input in X:\n",
    "            # Step 1: Find winning unit (BMU)\n",
    "            D = np.sum((W - x_input)**2, axis=1) #dim of W = (x, y, n) and dim of x_input is n, so this operation will subtract x_input from each W[i][j] and after that list is flatten\n",
    "            J = np.argmin(D)\n",
    "\n",
    "            # Step 2: Update BMU and its neighbors\n",
    "            for j in range(m):\n",
    "                if grid_distance(J, j) <= R:\n",
    "                    W[j] += alpha * (x_input - W[j])\n",
    "        # Step 3: Reduce learning rate\n",
    "        alpha -= fac\n",
    "\n",
    "    # Reshape weights to 2D grid (x, y, n)\n",
    "    return W.reshape(x, y, n)\n"
   ]
  },
  {
   "cell_type": "markdown",
   "id": "41a491e8",
   "metadata": {},
   "source": [
    "### Example 1"
   ]
  },
  {
   "cell_type": "code",
   "execution_count": 124,
   "id": "435630a5",
   "metadata": {},
   "outputs": [
    {
     "name": "stdout",
     "output_type": "stream",
     "text": [
      "Weights after 1000 iterations\n",
      "[2.07875350e-200 2.01080579e-199 1.00000000e+000 1.00000000e+000] [1.00000000e+000 1.00000000e+000 2.81947478e-199 3.05943130e-199] \n",
      "[4.9406565e-324 4.9406565e-324 5.2702948e-001 1.0000000e+000] [1.0000000e+000 4.7297052e-001 4.9406565e-324 4.9406565e-324] \n",
      "[8.12580275e-200 4.76393979e-200 5.32738516e-199 1.00000000e+000] [1.00000000e+000 2.43747008e-199 4.27350779e-200 3.94521414e-200] \n"
     ]
    }
   ],
   "source": [
    "X = [[1, 1, 0, 0], [0, 0, 0,1], [1, 0, 0, 0], [0, 0, 1, 1]]\n",
    "\n",
    "W = SOM(X, len(X[0]), 3, 2, 1, 0.6, 1000)\n",
    "\n",
    "print('Weights after 1000 iterations')\n",
    "\n",
    "for w in W:\n",
    "    for wi in w:\n",
    "        print(wi, end= ' ')\n",
    "    print()\n"
   ]
  },
  {
   "cell_type": "code",
   "execution_count": 126,
   "id": "c97f02ba",
   "metadata": {},
   "outputs": [],
   "source": [
    "X = [\n",
    "    [1, 0, 0, 0, 0],  # A\n",
    "    [2, 0, 0, 0, 0],  # B\n",
    "    [3, 0, 0, 0, 0],  # C\n",
    "    [4, 0, 0, 0, 0],  # D\n",
    "    [5, 0, 0, 0, 0],  # E\n",
    "    [3, 1, 0, 0, 0],  # F\n",
    "    [3, 2, 0, 0, 0],  # G\n",
    "    [3, 3, 0, 0, 0],  # H\n",
    "    [3, 4, 0, 0, 0],  # I\n",
    "    [3, 5, 0, 0, 0],  # J\n",
    "    [3, 3, 1, 0, 0],  # K\n",
    "    [3, 3, 2, 0, 0],  # L\n",
    "    [3, 3, 3, 0, 0],  # M\n",
    "    [3, 3, 4, 0, 0],  # N\n",
    "    [3, 3, 5, 0, 0],  # O\n",
    "    [3, 3, 6, 0, 0],  # P\n",
    "    [3, 3, 7, 0, 0],  # Q\n",
    "    [3, 3, 8, 0, 0],  # R\n",
    "    [3, 3, 3, 1, 0],  # S\n",
    "    [3, 3, 3, 2, 0],  # T\n",
    "    [3, 3, 3, 3, 0],  # U\n",
    "    [3, 3, 3, 4, 0],  # V\n",
    "    [3, 3, 6, 1, 0],  # W\n",
    "    [3, 3, 6, 2, 0],  # X\n",
    "    [3, 3, 6, 3, 0],  # Y\n",
    "    [3, 3, 6, 4, 0],  # Z\n",
    "]\n",
    "\n",
    "W = SOM(X, 5, 10, 10, 2, 0.6, 1000)\n"
   ]
  },
  {
   "cell_type": "code",
   "execution_count": null,
   "id": "1366ddcc",
   "metadata": {},
   "outputs": [
    {
     "data": {
      "image/png": "[encoded data removed]",
      "text/plain": [
       "<Figure size 700x700 with 1 Axes>"
      ]
     },
     "metadata": {},
     "output_type": "display_data"
    }
   ],
   "source": [
    "\n",
    "def getBestFit(W, x):\n",
    "    '''\n",
    "    To get the best fit cluster of X \n",
    "    '''\n",
    "    D = np.sum((W - x)**2, axis=2)\n",
    "    J = np.argmin(D)\n",
    "    jx, jy = J / W.shape[1], J % W.shape[1]\n",
    "    return (jx, jy)\n",
    "\n",
    "\n",
    "plt.figure(figsize=(7,7))\n",
    "for i, x in enumerate(X):\n",
    "    dx, dy = getBestFit(W, x)\n",
    "    plt.text(dx + 0.5, dy+0.5, str(chr(i+ord('A'))), ha='center', va='center')\n",
    "\n",
    "plt.xlim(0, 12)\n",
    "plt.ylim(0, 12)\n",
    "plt.title('Spanning Tree')\n",
    "plt.show()"
   ]
  },
  {
   "cell_type": "code",
   "execution_count": null,
   "id": "5ce85f19",
   "metadata": {},
   "outputs": [],
   "source": []
  }
 ],
 "metadata": {
  "kernelspec": {
   "display_name": "base",
   "language": "python",
   "name": "python3"
  },
  "language_info": {
   "codemirror_mode": {
    "name": "ipython",
    "version": 3
   },
   "file_extension": ".py",
   "mimetype": "text/x-python",
   "name": "python",
   "nbconvert_exporter": "python",
   "pygments_lexer": "ipython3",
   "version": "3.12.4"
  }
 },
 "nbformat": 4,
 "nbformat_minor": 5
}
