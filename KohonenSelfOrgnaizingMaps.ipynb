{
 "cells": [
  {
   "cell_type": "markdown",
   "id": "acdb78a9",
   "metadata": {},
   "source": [
    "### Introduction\n",
    "- If we need to create m cluster of n dimensional data then we will create a weight matrix of m*n \n",
    "- X = [1, 1, 0, 1]\n",
    "- Weight Matrix, where, Wij = w from i to j \n",
    "-     w11  w12\n",
    "      w21  w21\n",
    "      w31  w32\n",
    "      w31  w42\n",
    "- X = [ X1, X2, X3, X4....Xk ] where Xi is n dimensional vector\n",
    "### Algo\n",
    "- For each input vector Xi in X\n",
    "- calculate Dj = (xi1-w1j)^2 + (xi2- w2j)^2 .... where j is the jth cluster\n",
    "- J = jth cluster whose Dj is minimum\n",
    "- Then update the weight of the J cluster as \n",
    "    Wnew = Wold + alpha*(x - Wold)"
   ]
  },
  {
   "cell_type": "code",
   "execution_count": 24,
   "id": "435630a5",
   "metadata": {},
   "outputs": [
    {
     "name": "stdout",
     "output_type": "stream",
     "text": [
      "Weights after 1000 iterations :\n",
      "5e-324 1.0 \n",
      "5e-324 0.4729705200183954 \n",
      "0.5270294799816047 5e-324 \n",
      "1.0 5e-324 \n"
     ]
    }
   ],
   "source": [
    "X = [[1, 1, 0, 0], [0, 0, 0,1], [1, 0, 0, 0], [0, 0, 1, 1]]\n",
    "n = 4 #dimensionality of data\n",
    "m = 2 #maximum number of clusters\n",
    "W = [[0.2, 0.8], \n",
    "     [0.6, 0.4],\n",
    "     [0.5, 0.7],\n",
    "     [0.9, 0.3]]\n",
    "R = 0 #topological Radius\n",
    "alpha = 0.6 \n",
    "num_iterations = iterations = 1000\n",
    "fac = 0.5/num_iterations #fac to decresase alpha from 0.6 to 0.1 in given number of iterations\n",
    "while(num_iterations):\n",
    "    for x in X:\n",
    "        J = -1\n",
    "        Dmin = 1e9\n",
    "        for j in range (0, m):\n",
    "            D = 0\n",
    "            for i in range(0, n):\n",
    "                D += (x[i] - W[i][j])**2\n",
    "            # print(f'Distance for the {j}th cluster is {D}')\n",
    "            if(D<Dmin):\n",
    "                Dmin = D\n",
    "                J = j\n",
    "        # print(f'Updating weights of {J}th cluster')\n",
    "\n",
    "        #updating weights \n",
    "        for i in range(0, n):\n",
    "            W[i][J] = W[i][J] + alpha*(x[i] - W[i][J])\n",
    "\n",
    "    num_iterations = num_iterations-1\n",
    "    alpha = alpha - fac\n",
    "\n",
    "\n",
    "#printing the weights\n",
    "print(f'Weights after {iterations} iterations :')\n",
    "for w in W:\n",
    "    for wi in w:\n",
    "        print(wi, end= ' ')\n",
    "    print()\n",
    "\n",
    "\n"
   ]
  },
  {
   "cell_type": "markdown",
   "id": "2cd3db02",
   "metadata": {},
   "source": []
  }
 ],
 "metadata": {
  "kernelspec": {
   "display_name": "base",
   "language": "python",
   "name": "python3"
  },
  "language_info": {
   "codemirror_mode": {
    "name": "ipython",
    "version": 3
   },
   "file_extension": ".py",
   "mimetype": "text/x-python",
   "name": "python",
   "nbconvert_exporter": "python",
   "pygments_lexer": "ipython3",
   "version": "3.12.4"
  }
 },
 "nbformat": 4,
 "nbformat_minor": 5
}
